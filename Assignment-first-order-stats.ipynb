{
 "cells": [
  {
   "cell_type": "code",
   "execution_count": null,
   "id": "attractive-durham",
   "metadata": {
    "scrolled": true
   },
   "outputs": [],
   "source": []
  },
  {
   "cell_type": "code",
   "execution_count": 1,
   "id": "faced-detection",
   "metadata": {
    "scrolled": true
   },
   "outputs": [],
   "source": [
    "import numpy as np\n",
    "import math"
   ]
  },
  {
   "cell_type": "code",
   "execution_count": 2,
   "id": "plain-sacramento",
   "metadata": {
    "scrolled": true
   },
   "outputs": [],
   "source": [
    "def sort(a):\n",
    "    sorted_a = a\n",
    "    n = a.size\n",
    "    for i in range(0,n):\n",
    "        for j in range(0,n):\n",
    "            if sorted_a[j]<sorted_a[i]:\n",
    "                temp = sorted_a[j]\n",
    "                sorted_a[j]=sorted_a[i]\n",
    "                sorted_a[i] = temp\n",
    "    print(sorted_a)\n",
    "    return sorted_a"
   ]
  },
  {
   "cell_type": "code",
   "execution_count": 3,
   "id": "wicked-colombia",
   "metadata": {
    "scrolled": true
   },
   "outputs": [],
   "source": [
    "def median(a):\n",
    "    sorted_a = sort(a)\n",
    "    mid_index = math.ceil(len(a)/2)-1\n",
    "    #print(mid_index)\n",
    "    median_a = sorted_a[mid_index]\n",
    "    return median_a"
   ]
  },
  {
   "cell_type": "code",
   "execution_count": 4,
   "id": "material-gossip",
   "metadata": {},
   "outputs": [],
   "source": [
    "def mode(a):\n",
    "    # assumption: if same max repetation is there. highest mode will be returned\n",
    "    sorted_a = sort(a)\n",
    "    #take first value as mode\n",
    "    mode_a = sorted_a[0]\n",
    "    #corresponding count to mode value\n",
    "    max_count = 1\n",
    "    count = 1\n",
    "    \n",
    "    for i in range(1,len(sorted_a)):\n",
    "        #print(sorted_a[i])\n",
    "        if sorted_a[i] == sorted_a[i-1]:\n",
    "            count += 1 \n",
    "        if count > max_count:\n",
    "            #print(count)\n",
    "            max_count = count\n",
    "            mode_a = sorted_a[i]\n",
    "        if sorted_a[i] != sorted_a[i-1]:\n",
    "            count = 1\n",
    "            \n",
    "    return mode_a"
   ]
  },
  {
   "cell_type": "code",
   "execution_count": 5,
   "id": "stylish-species",
   "metadata": {},
   "outputs": [
    {
     "data": {
      "text/plain": [
       "array([11,  0,  4, 10,  0, 11, 17, 16,  1, 19, 16,  4,  2, 18,  7, 11,  1,\n",
       "       11, 10, 15, 12])"
      ]
     },
     "execution_count": 5,
     "metadata": {},
     "output_type": "execute_result"
    }
   ],
   "source": [
    "a = np.random.randint(20, size=21)\n",
    "a"
   ]
  },
  {
   "cell_type": "code",
   "execution_count": 6,
   "id": "acoustic-sucking",
   "metadata": {
    "scrolled": true
   },
   "outputs": [],
   "source": [
    "sum = 0\n",
    "for i in range(0,a.size):\n",
    "    sum += a[i]"
   ]
  },
  {
   "cell_type": "code",
   "execution_count": 7,
   "id": "registered-thomson",
   "metadata": {
    "scrolled": true
   },
   "outputs": [],
   "source": [
    "len_a = len(a)"
   ]
  },
  {
   "cell_type": "code",
   "execution_count": 8,
   "id": "economic-marshall",
   "metadata": {
    "scrolled": true
   },
   "outputs": [],
   "source": [
    "mean_a = sum/len_a"
   ]
  },
  {
   "cell_type": "code",
   "execution_count": 9,
   "id": "collectible-palestinian",
   "metadata": {},
   "outputs": [
    {
     "name": "stdout",
     "output_type": "stream",
     "text": [
      "[19 18 17 16 16 15 12 11 11 11 11 10 10  7  4  4  2  1  1  0  0]\n"
     ]
    }
   ],
   "source": [
    "median_a = median(a) "
   ]
  },
  {
   "cell_type": "code",
   "execution_count": 10,
   "id": "cooperative-improvement",
   "metadata": {},
   "outputs": [
    {
     "name": "stdout",
     "output_type": "stream",
     "text": [
      "[19 18 17 16 16 15 12 11 11 11 11 10 10  7  4  4  2  1  1  0  0]\n"
     ]
    }
   ],
   "source": [
    "mode_a = mode(a)"
   ]
  },
  {
   "cell_type": "code",
   "execution_count": 11,
   "id": "precious-victim",
   "metadata": {},
   "outputs": [
    {
     "name": "stdout",
     "output_type": "stream",
     "text": [
      "mean:  9.333333333333334  median: 11  mode: 11\n"
     ]
    }
   ],
   "source": [
    "print(\"mean: \", mean_a, \" median:\", median_a, \" mode:\",mode_a)"
   ]
  },
  {
   "cell_type": "code",
   "execution_count": null,
   "id": "intellectual-rachel",
   "metadata": {},
   "outputs": [],
   "source": []
  }
 ],
 "metadata": {
  "kernelspec": {
   "display_name": "Python 3",
   "language": "python",
   "name": "python3"
  },
  "language_info": {
   "codemirror_mode": {
    "name": "ipython",
    "version": 3
   },
   "file_extension": ".py",
   "mimetype": "text/x-python",
   "name": "python",
   "nbconvert_exporter": "python",
   "pygments_lexer": "ipython3",
   "version": "3.6.9"
  }
 },
 "nbformat": 4,
 "nbformat_minor": 5
}
