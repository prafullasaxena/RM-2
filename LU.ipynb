{
 "cells": [
  {
   "cell_type": "code",
   "execution_count": 3,
   "metadata": {},
   "outputs": [
    {
     "name": "stdout",
     "output_type": "stream",
     "text": [
      "['2,0,0,0', '2,3,0,0', '1,2,3,0', '3,4,5,6', '-1', '']\n",
      "[[2 0 0 0]\n",
      " [2 3 0 0]\n",
      " [1 2 3 0]\n",
      " [3 4 5 6]]\n",
      "(4, 4)\n",
      "[2 0 0 0]\n",
      "[2 3 0 0]\n",
      "[1 2 3 0]\n",
      "[3 4 5 6]\n",
      "matrix type: Lower\n"
     ]
    }
   ],
   "source": [
    "import numpy as np\n",
    "\n",
    "def read_txt(file_name):\n",
    "    matrix = []\n",
    "    f = open(file_name, 'r')\n",
    "    a = f.read().split('\\n')\n",
    "    print(a)\n",
    "    for row in range(0,len(a)-2):\n",
    "        raw_items = a[row].split(',')\n",
    "        matrix.append(raw_items)\n",
    "        #print(matrix)\n",
    "    matrix = np.asarray(matrix)\n",
    "    matrix = matrix.astype(int)\n",
    "    print(matrix)\n",
    "    \n",
    "    return matrix\n",
    "\n",
    "def read_csv(file_name):\n",
    "    1==1\n",
    "    \n",
    "def check_triangularity(matrix):\n",
    "    lower_flag = True\n",
    "    upper_flag = True\n",
    "    for row_index,row in enumerate(matrix):\n",
    "        print(row)\n",
    "        for column_index,item in enumerate(row):\n",
    "            #check for lower-triangal matrix\n",
    "            if row_index<column_index:\n",
    "                if item != 0:\n",
    "                    lower_flag = False\n",
    "            \n",
    "            if row_index>column_index:\n",
    "                if item != 0:\n",
    "                    upper_flag = False\n",
    "                    \n",
    "    if lower_flag:\n",
    "        print(\"matrix type: Lower\")\n",
    "        #solve_lower(matrix)\n",
    "            \n",
    "    if upper_flag:\n",
    "        print(\"matrix type: Upper\")\n",
    "        #solve_upper\n",
    "        \n",
    "    if lower_flag and upper_flag:\n",
    "        print(\"matrix type: Diagonal\")\n",
    "        \n",
    "\n",
    "matrix = read_txt(\"./demofile.txt\")\n",
    "print(matrix.shape)\n",
    "\n",
    "check_triangularity(matrix)\n"
   ]
  },
  {
   "cell_type": "code",
   "execution_count": null,
   "metadata": {},
   "outputs": [],
   "source": []
  }
 ],
 "metadata": {
  "kernelspec": {
   "display_name": "Python 3",
   "language": "python",
   "name": "python3"
  },
  "language_info": {
   "codemirror_mode": {
    "name": "ipython",
    "version": 3
   },
   "file_extension": ".py",
   "mimetype": "text/x-python",
   "name": "python",
   "nbconvert_exporter": "python",
   "pygments_lexer": "ipython3",
   "version": "3.7.4"
  }
 },
 "nbformat": 4,
 "nbformat_minor": 4
}
